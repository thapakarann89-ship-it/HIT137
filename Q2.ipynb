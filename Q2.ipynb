{
 "cells": [
  {
   "cell_type": "code",
   "execution_count": 41,
   "id": "33cb5e9b-37ef-4734-82f2-702b2b6a6a23",
   "metadata": {},
   "outputs": [],
   "source": [
    "import pandas as pd\n",
    "import glob"
   ]
  },
  {
   "cell_type": "code",
   "execution_count": 42,
   "id": "1667e8ee-f401-42e2-9f0e-6ae5baadb117",
   "metadata": {},
   "outputs": [],
   "source": [
    "all_dfs = []"
   ]
  },
  {
   "cell_type": "code",
   "execution_count": 43,
   "id": "9afa7073-480b-4523-b22c-b9d5a0b48700",
   "metadata": {},
   "outputs": [
    {
     "name": "stdout",
     "output_type": "stream",
     "text": [
      "Reading: Temperatures\\stations_group_1986.csv\n",
      "Reading: Temperatures\\stations_group_1987.csv\n",
      "Reading: Temperatures\\stations_group_1988.csv\n",
      "Reading: Temperatures\\stations_group_1989.csv\n",
      "Reading: Temperatures\\stations_group_1990.csv\n",
      "Reading: Temperatures\\stations_group_1991.csv\n",
      "Reading: Temperatures\\stations_group_1992.csv\n",
      "Reading: Temperatures\\stations_group_1993.csv\n",
      "Reading: Temperatures\\stations_group_1994.csv\n",
      "Reading: Temperatures\\stations_group_1995.csv\n",
      "Reading: Temperatures\\stations_group_1996.csv\n",
      "Reading: Temperatures\\stations_group_1997.csv\n",
      "Reading: Temperatures\\stations_group_1998.csv\n",
      "Reading: Temperatures\\stations_group_1999.csv\n",
      "Reading: Temperatures\\stations_group_2000.csv\n",
      "Reading: Temperatures\\stations_group_2001.csv\n",
      "Reading: Temperatures\\stations_group_2002.csv\n",
      "Reading: Temperatures\\stations_group_2003.csv\n",
      "Reading: Temperatures\\stations_group_2004.csv\n",
      "Reading: Temperatures\\stations_group_2005.csv\n"
     ]
    }
   ],
   "source": [
    "for file in glob.glob(\"Temperatures/*.csv\"):   \n",
    "    print(\"Reading:\", file)                   \n",
    "    new_df = pd.read_csv(file)\n",
    "    all_dfs.append(new_df)"
   ]
  },
  {
   "cell_type": "code",
   "execution_count": 44,
   "id": "8bc2b6e7-d8d9-4d7d-928f-bfe9aff70313",
   "metadata": {},
   "outputs": [
    {
     "data": {
      "text/html": [
       "<div>\n",
       "<style scoped>\n",
       "    .dataframe tbody tr th:only-of-type {\n",
       "        vertical-align: middle;\n",
       "    }\n",
       "\n",
       "    .dataframe tbody tr th {\n",
       "        vertical-align: top;\n",
       "    }\n",
       "\n",
       "    .dataframe thead th {\n",
       "        text-align: right;\n",
       "    }\n",
       "</style>\n",
       "<table border=\"1\" class=\"dataframe\">\n",
       "  <thead>\n",
       "    <tr style=\"text-align: right;\">\n",
       "      <th></th>\n",
       "      <th>STATION_NAME</th>\n",
       "      <th>STN_ID</th>\n",
       "      <th>LAT</th>\n",
       "      <th>LON</th>\n",
       "      <th>January</th>\n",
       "      <th>February</th>\n",
       "      <th>March</th>\n",
       "      <th>April</th>\n",
       "      <th>May</th>\n",
       "      <th>June</th>\n",
       "      <th>July</th>\n",
       "      <th>August</th>\n",
       "      <th>September</th>\n",
       "      <th>October</th>\n",
       "      <th>November</th>\n",
       "      <th>December</th>\n",
       "    </tr>\n",
       "  </thead>\n",
       "  <tbody>\n",
       "    <tr>\n",
       "      <th>0</th>\n",
       "      <td>ADELAIDE-KENT-TOWN</td>\n",
       "      <td>23090</td>\n",
       "      <td>-34.92</td>\n",
       "      <td>138.62</td>\n",
       "      <td>31.48</td>\n",
       "      <td>31.37</td>\n",
       "      <td>28.12</td>\n",
       "      <td>24.81</td>\n",
       "      <td>21.28</td>\n",
       "      <td>17.92</td>\n",
       "      <td>17.20</td>\n",
       "      <td>17.87</td>\n",
       "      <td>20.54</td>\n",
       "      <td>22.98</td>\n",
       "      <td>26.65</td>\n",
       "      <td>28.38</td>\n",
       "    </tr>\n",
       "    <tr>\n",
       "      <th>1</th>\n",
       "      <td>ALBANY-AIRPORT-COMPARISON</td>\n",
       "      <td>9741</td>\n",
       "      <td>-34.94</td>\n",
       "      <td>117.80</td>\n",
       "      <td>25.24</td>\n",
       "      <td>26.03</td>\n",
       "      <td>25.45</td>\n",
       "      <td>23.50</td>\n",
       "      <td>20.55</td>\n",
       "      <td>18.00</td>\n",
       "      <td>16.95</td>\n",
       "      <td>17.02</td>\n",
       "      <td>18.34</td>\n",
       "      <td>19.52</td>\n",
       "      <td>21.85</td>\n",
       "      <td>23.75</td>\n",
       "    </tr>\n",
       "    <tr>\n",
       "      <th>2</th>\n",
       "      <td>ALICE-SPRINGS-AIRPORT</td>\n",
       "      <td>15590</td>\n",
       "      <td>-23.80</td>\n",
       "      <td>133.89</td>\n",
       "      <td>38.40</td>\n",
       "      <td>37.32</td>\n",
       "      <td>35.35</td>\n",
       "      <td>31.37</td>\n",
       "      <td>25.18</td>\n",
       "      <td>21.06</td>\n",
       "      <td>20.52</td>\n",
       "      <td>23.71</td>\n",
       "      <td>29.07</td>\n",
       "      <td>31.41</td>\n",
       "      <td>34.38</td>\n",
       "      <td>36.06</td>\n",
       "    </tr>\n",
       "  </tbody>\n",
       "</table>\n",
       "</div>"
      ],
      "text/plain": [
       "                STATION_NAME  STN_ID    LAT     LON  January  February  March  \\\n",
       "0         ADELAIDE-KENT-TOWN   23090 -34.92  138.62    31.48     31.37  28.12   \n",
       "1  ALBANY-AIRPORT-COMPARISON    9741 -34.94  117.80    25.24     26.03  25.45   \n",
       "2      ALICE-SPRINGS-AIRPORT   15590 -23.80  133.89    38.40     37.32  35.35   \n",
       "\n",
       "   April    May   June   July  August  September  October  November  December  \n",
       "0  24.81  21.28  17.92  17.20   17.87      20.54    22.98     26.65     28.38  \n",
       "1  23.50  20.55  18.00  16.95   17.02      18.34    19.52     21.85     23.75  \n",
       "2  31.37  25.18  21.06  20.52   23.71      29.07    31.41     34.38     36.06  "
      ]
     },
     "execution_count": 44,
     "metadata": {},
     "output_type": "execute_result"
    }
   ],
   "source": [
    "dataset = pd.concat(all_dfs, ignore_index=True) \n",
    "dataset.head(3) "
   ]
  },
  {
   "cell_type": "code",
   "execution_count": 45,
   "id": "ca531b75-a024-4ae7-a835-656efaa9aa52",
   "metadata": {},
   "outputs": [],
   "source": [
    "range_dataset = dataset.copy()           # creating copy of original dataset to store range value\n",
    "std_dataset = dataset.copy()             # creating copy of original dataset to store standard deviation value"
   ]
  },
  {
   "cell_type": "code",
   "execution_count": 46,
   "id": "76d825c4-9dc5-4287-bbdd-b04894e0819c",
   "metadata": {},
   "outputs": [],
   "source": [
    "# Seasonal Average"
   ]
  },
  {
   "cell_type": "markdown",
   "id": "168c6587-4279-4e1a-b974-f8132ff3d66e",
   "metadata": {},
   "source": [
    "<!-- seasonal average -->"
   ]
  },
  {
   "cell_type": "code",
   "execution_count": 47,
   "id": "8e363515-efba-46de-a3d1-0263924146c8",
   "metadata": {},
   "outputs": [
    {
     "name": "stdout",
     "output_type": "stream",
     "text": [
      "Summer: 32.1 °C\n"
     ]
    }
   ],
   "source": [
    "Summer = dataset[['December', 'January', 'February']].mean().mean()\n",
    "print('Summer:',round(Summer,1),'°C')"
   ]
  },
  {
   "cell_type": "code",
   "execution_count": 48,
   "id": "474491bf-3ca6-43f9-9e0c-31d51db932fc",
   "metadata": {},
   "outputs": [
    {
     "name": "stdout",
     "output_type": "stream",
     "text": [
      "Autumn: 27.3 °C\n"
     ]
    }
   ],
   "source": [
    "Autumn = dataset[['March', 'April', 'May']].mean().mean()\n",
    "print('Autumn:',round(Autumn,1),'°C')"
   ]
  },
  {
   "cell_type": "code",
   "execution_count": 49,
   "id": "74d57b41-7094-40fc-9b40-7d4514781e1d",
   "metadata": {},
   "outputs": [
    {
     "name": "stdout",
     "output_type": "stream",
     "text": [
      "Winter: 21.1 °C\n"
     ]
    }
   ],
   "source": [
    "Winter = dataset[['June', 'July', 'August']].mean().mean()\n",
    "print('Winter:',round(Winter,1),'°C')"
   ]
  },
  {
   "cell_type": "code",
   "execution_count": 50,
   "id": "02a858d3-4d91-4127-b8cc-64938bbbc4c9",
   "metadata": {},
   "outputs": [
    {
     "name": "stdout",
     "output_type": "stream",
     "text": [
      "Spring: 27.4 °C\n"
     ]
    }
   ],
   "source": [
    "Spring = dataset[['September', 'October', 'November']].mean().mean()\n",
    "print('Spring:',round(Spring,1),'°C')"
   ]
  },
  {
   "cell_type": "code",
   "execution_count": 51,
   "id": "2b519b31-6e6e-4436-982c-c86157bda815",
   "metadata": {},
   "outputs": [],
   "source": [
    "average_temp = (\n",
    "    f\"Summer: {round(Summer,1)}°C  \"\n",
    "    f\"Autumn: {round(Autumn,1)}°C  \"\n",
    "    f\"Winter: {round(Winter,1)}°C  \"\n",
    "    f\"Spring: {round(Spring,1)}°C\"\n",
    ")"
   ]
  },
  {
   "cell_type": "code",
   "execution_count": 52,
   "id": "0d26accc-efd8-4637-a94d-6ca31084327a",
   "metadata": {},
   "outputs": [],
   "source": [
    "with open('average_temp.txt', 'w') as f:\n",
    "    f.write(average_temp)"
   ]
  },
  {
   "cell_type": "code",
   "execution_count": 53,
   "id": "9ed0cc58-8779-4a15-848a-09f58824b086",
   "metadata": {},
   "outputs": [],
   "source": [
    "# Temperature Range"
   ]
  },
  {
   "cell_type": "code",
   "execution_count": 54,
   "id": "28a6f655-c6db-4aef-89fd-dfc04dc3cabe",
   "metadata": {},
   "outputs": [
    {
     "data": {
      "text/html": [
       "<div>\n",
       "<style scoped>\n",
       "    .dataframe tbody tr th:only-of-type {\n",
       "        vertical-align: middle;\n",
       "    }\n",
       "\n",
       "    .dataframe tbody tr th {\n",
       "        vertical-align: top;\n",
       "    }\n",
       "\n",
       "    .dataframe thead th {\n",
       "        text-align: right;\n",
       "    }\n",
       "</style>\n",
       "<table border=\"1\" class=\"dataframe\">\n",
       "  <thead>\n",
       "    <tr style=\"text-align: right;\">\n",
       "      <th></th>\n",
       "      <th>January</th>\n",
       "      <th>February</th>\n",
       "      <th>March</th>\n",
       "      <th>April</th>\n",
       "      <th>May</th>\n",
       "      <th>June</th>\n",
       "      <th>July</th>\n",
       "      <th>August</th>\n",
       "      <th>September</th>\n",
       "      <th>October</th>\n",
       "      <th>November</th>\n",
       "      <th>December</th>\n",
       "    </tr>\n",
       "  </thead>\n",
       "  <tbody>\n",
       "    <tr>\n",
       "      <th>0</th>\n",
       "      <td>31.48</td>\n",
       "      <td>31.37</td>\n",
       "      <td>28.12</td>\n",
       "      <td>24.81</td>\n",
       "      <td>21.28</td>\n",
       "      <td>17.92</td>\n",
       "      <td>17.20</td>\n",
       "      <td>17.87</td>\n",
       "      <td>20.54</td>\n",
       "      <td>22.98</td>\n",
       "      <td>26.65</td>\n",
       "      <td>28.38</td>\n",
       "    </tr>\n",
       "    <tr>\n",
       "      <th>1</th>\n",
       "      <td>25.24</td>\n",
       "      <td>26.03</td>\n",
       "      <td>25.45</td>\n",
       "      <td>23.50</td>\n",
       "      <td>20.55</td>\n",
       "      <td>18.00</td>\n",
       "      <td>16.95</td>\n",
       "      <td>17.02</td>\n",
       "      <td>18.34</td>\n",
       "      <td>19.52</td>\n",
       "      <td>21.85</td>\n",
       "      <td>23.75</td>\n",
       "    </tr>\n",
       "    <tr>\n",
       "      <th>2</th>\n",
       "      <td>38.40</td>\n",
       "      <td>37.32</td>\n",
       "      <td>35.35</td>\n",
       "      <td>31.37</td>\n",
       "      <td>25.18</td>\n",
       "      <td>21.06</td>\n",
       "      <td>20.52</td>\n",
       "      <td>23.71</td>\n",
       "      <td>29.07</td>\n",
       "      <td>31.41</td>\n",
       "      <td>34.38</td>\n",
       "      <td>36.06</td>\n",
       "    </tr>\n",
       "  </tbody>\n",
       "</table>\n",
       "</div>"
      ],
      "text/plain": [
       "   January  February  March  April    May   June   July  August  September  \\\n",
       "0    31.48     31.37  28.12  24.81  21.28  17.92  17.20   17.87      20.54   \n",
       "1    25.24     26.03  25.45  23.50  20.55  18.00  16.95   17.02      18.34   \n",
       "2    38.40     37.32  35.35  31.37  25.18  21.06  20.52   23.71      29.07   \n",
       "\n",
       "   October  November  December  \n",
       "0    22.98     26.65     28.38  \n",
       "1    19.52     21.85     23.75  \n",
       "2    31.41     34.38     36.06  "
      ]
     },
     "execution_count": 54,
     "metadata": {},
     "output_type": "execute_result"
    }
   ],
   "source": [
    "range_dataset.iloc[:, 4:].head(3)  # select all the row but only the columns starting from the indexing 4 onwards"
   ]
  },
  {
   "cell_type": "code",
   "execution_count": 55,
   "id": "1c83e3c7-758c-4543-b731-bd54d544ed15",
   "metadata": {},
   "outputs": [],
   "source": [
    "max_value = range_dataset.iloc[:, 4:].max(axis=1)    # when axis = 1, finds the max value row wise\n",
    "min_value = range_dataset.iloc[:, 4:].min(axis=1)\n",
    "range = max_value - min_value\n",
    "range_dataset['Range'] = range   # add Range columns in range_dataset"
   ]
  },
  {
   "cell_type": "code",
   "execution_count": 56,
   "id": "494c8e6d-e543-4bf4-8dc7-516426c699cb",
   "metadata": {},
   "outputs": [
    {
     "data": {
      "text/html": [
       "<div>\n",
       "<style scoped>\n",
       "    .dataframe tbody tr th:only-of-type {\n",
       "        vertical-align: middle;\n",
       "    }\n",
       "\n",
       "    .dataframe tbody tr th {\n",
       "        vertical-align: top;\n",
       "    }\n",
       "\n",
       "    .dataframe thead th {\n",
       "        text-align: right;\n",
       "    }\n",
       "</style>\n",
       "<table border=\"1\" class=\"dataframe\">\n",
       "  <thead>\n",
       "    <tr style=\"text-align: right;\">\n",
       "      <th></th>\n",
       "      <th>STATION_NAME</th>\n",
       "      <th>STN_ID</th>\n",
       "      <th>LAT</th>\n",
       "      <th>LON</th>\n",
       "      <th>January</th>\n",
       "      <th>February</th>\n",
       "      <th>March</th>\n",
       "      <th>April</th>\n",
       "      <th>May</th>\n",
       "      <th>June</th>\n",
       "      <th>July</th>\n",
       "      <th>August</th>\n",
       "      <th>September</th>\n",
       "      <th>October</th>\n",
       "      <th>November</th>\n",
       "      <th>December</th>\n",
       "      <th>Range</th>\n",
       "    </tr>\n",
       "  </thead>\n",
       "  <tbody>\n",
       "    <tr>\n",
       "      <th>1669</th>\n",
       "      <td>WAGGA-WAGGA-AMO</td>\n",
       "      <td>72150</td>\n",
       "      <td>-35.16</td>\n",
       "      <td>147.46</td>\n",
       "      <td>36.55</td>\n",
       "      <td>35.31</td>\n",
       "      <td>32.61</td>\n",
       "      <td>27.15</td>\n",
       "      <td>21.43</td>\n",
       "      <td>16.45</td>\n",
       "      <td>15.48</td>\n",
       "      <td>17.61</td>\n",
       "      <td>21.66</td>\n",
       "      <td>26.02</td>\n",
       "      <td>30.36</td>\n",
       "      <td>34.66</td>\n",
       "      <td>21.07</td>\n",
       "    </tr>\n",
       "  </tbody>\n",
       "</table>\n",
       "</div>"
      ],
      "text/plain": [
       "         STATION_NAME  STN_ID    LAT     LON  January  February  March  April  \\\n",
       "1669  WAGGA-WAGGA-AMO   72150 -35.16  147.46    36.55     35.31  32.61  27.15   \n",
       "\n",
       "        May   June   July  August  September  October  November  December  \\\n",
       "1669  21.43  16.45  15.48   17.61      21.66    26.02     30.36     34.66   \n",
       "\n",
       "      Range  \n",
       "1669  21.07  "
      ]
     },
     "execution_count": 56,
     "metadata": {},
     "output_type": "execute_result"
    }
   ],
   "source": [
    "range_dataset[range_dataset['Range']== range_dataset['Range'].max()]   # finds the max range value from Range column"
   ]
  },
  {
   "cell_type": "code",
   "execution_count": 57,
   "id": "c3c93924-ed6d-4f51-b79a-391889abddbe",
   "metadata": {},
   "outputs": [
    {
     "data": {
      "text/plain": [
       "Index(['January', 'February', 'March', 'April', 'May', 'June', 'July',\n",
       "       'August', 'September', 'October', 'November', 'December'],\n",
       "      dtype='object')"
      ]
     },
     "execution_count": 57,
     "metadata": {},
     "output_type": "execute_result"
    }
   ],
   "source": [
    "months = range_dataset.iloc[:, 4:-1].columns\n",
    "months"
   ]
  },
  {
   "cell_type": "code",
   "execution_count": 58,
   "id": "1a9c4874-b5ce-4b4a-b45a-1609c210fb91",
   "metadata": {},
   "outputs": [],
   "source": [
    "station_name = range_dataset.iloc[661]['STATION_NAME']   # acccess the 'STATION_NAME' from 661 row\n",
    "range_value = range_dataset.iloc[661]['Range']\n",
    "max_temp = range_dataset.iloc[661][months].max()\n",
    "min_temp = range_dataset.iloc[661][months].min()"
   ]
  },
  {
   "cell_type": "code",
   "execution_count": 59,
   "id": "277ba453-aed3-4636-b8d5-b84e67620cdb",
   "metadata": {},
   "outputs": [
    {
     "name": "stdout",
     "output_type": "stream",
     "text": [
      "Station WAGGA-WAGGA-AMO: Range 19.7°C (Max: 33.5°C, Min: 13.8°C)\n"
     ]
    }
   ],
   "source": [
    "largest_temp_range_station = f\"Station {station_name}: Range {round(range_value,1)}°C (Max: {round(max_temp,1)}°C, Min: {round(min_temp,1)}°C)\"   # rounds returns the value upto 1 decimal point\n",
    "print(largest_temp_range_station)"
   ]
  },
  {
   "cell_type": "code",
   "execution_count": 60,
   "id": "f16f298c-0a4e-4481-b68c-929a33104ed6",
   "metadata": {},
   "outputs": [],
   "source": [
    "with open('largest_temp_range_station.txt', 'w') as f:    # open / create a text file in write mode\n",
    "    f.write(largest_temp_range_station)   # writes the string in 'largest_temp_range_station' into the file"
   ]
  },
  {
   "cell_type": "code",
   "execution_count": null,
   "id": "075a271d-7060-49bb-88d4-66d418e83423",
   "metadata": {},
   "outputs": [],
   "source": []
  },
  {
   "cell_type": "code",
   "execution_count": 61,
   "id": "a8aed24e-f45c-4989-8b71-0f0888025b34",
   "metadata": {},
   "outputs": [],
   "source": [
    "#Temperature Stability"
   ]
  },
  {
   "cell_type": "code",
   "execution_count": 62,
   "id": "00ec2000-cad3-4a4a-96c9-23b0b486fe4e",
   "metadata": {},
   "outputs": [
    {
     "data": {
      "text/html": [
       "<div>\n",
       "<style scoped>\n",
       "    .dataframe tbody tr th:only-of-type {\n",
       "        vertical-align: middle;\n",
       "    }\n",
       "\n",
       "    .dataframe tbody tr th {\n",
       "        vertical-align: top;\n",
       "    }\n",
       "\n",
       "    .dataframe thead th {\n",
       "        text-align: right;\n",
       "    }\n",
       "</style>\n",
       "<table border=\"1\" class=\"dataframe\">\n",
       "  <thead>\n",
       "    <tr style=\"text-align: right;\">\n",
       "      <th></th>\n",
       "      <th>STATION_NAME</th>\n",
       "      <th>STN_ID</th>\n",
       "      <th>LAT</th>\n",
       "      <th>LON</th>\n",
       "      <th>January</th>\n",
       "      <th>February</th>\n",
       "      <th>March</th>\n",
       "      <th>April</th>\n",
       "      <th>May</th>\n",
       "      <th>June</th>\n",
       "      <th>July</th>\n",
       "      <th>August</th>\n",
       "      <th>September</th>\n",
       "      <th>October</th>\n",
       "      <th>November</th>\n",
       "      <th>December</th>\n",
       "      <th>Standard_Deviation</th>\n",
       "    </tr>\n",
       "  </thead>\n",
       "  <tbody>\n",
       "    <tr>\n",
       "      <th>0</th>\n",
       "      <td>ADELAIDE-KENT-TOWN</td>\n",
       "      <td>23090</td>\n",
       "      <td>-34.92</td>\n",
       "      <td>138.62</td>\n",
       "      <td>31.48</td>\n",
       "      <td>31.37</td>\n",
       "      <td>28.12</td>\n",
       "      <td>24.81</td>\n",
       "      <td>21.28</td>\n",
       "      <td>17.92</td>\n",
       "      <td>17.20</td>\n",
       "      <td>17.87</td>\n",
       "      <td>20.54</td>\n",
       "      <td>22.98</td>\n",
       "      <td>26.65</td>\n",
       "      <td>28.38</td>\n",
       "      <td>5.180983</td>\n",
       "    </tr>\n",
       "    <tr>\n",
       "      <th>1</th>\n",
       "      <td>ALBANY-AIRPORT-COMPARISON</td>\n",
       "      <td>9741</td>\n",
       "      <td>-34.94</td>\n",
       "      <td>117.80</td>\n",
       "      <td>25.24</td>\n",
       "      <td>26.03</td>\n",
       "      <td>25.45</td>\n",
       "      <td>23.50</td>\n",
       "      <td>20.55</td>\n",
       "      <td>18.00</td>\n",
       "      <td>16.95</td>\n",
       "      <td>17.02</td>\n",
       "      <td>18.34</td>\n",
       "      <td>19.52</td>\n",
       "      <td>21.85</td>\n",
       "      <td>23.75</td>\n",
       "      <td>3.395952</td>\n",
       "    </tr>\n",
       "    <tr>\n",
       "      <th>2</th>\n",
       "      <td>ALICE-SPRINGS-AIRPORT</td>\n",
       "      <td>15590</td>\n",
       "      <td>-23.80</td>\n",
       "      <td>133.89</td>\n",
       "      <td>38.40</td>\n",
       "      <td>37.32</td>\n",
       "      <td>35.35</td>\n",
       "      <td>31.37</td>\n",
       "      <td>25.18</td>\n",
       "      <td>21.06</td>\n",
       "      <td>20.52</td>\n",
       "      <td>23.71</td>\n",
       "      <td>29.07</td>\n",
       "      <td>31.41</td>\n",
       "      <td>34.38</td>\n",
       "      <td>36.06</td>\n",
       "      <td>6.358751</td>\n",
       "    </tr>\n",
       "    <tr>\n",
       "      <th>3</th>\n",
       "      <td>AMBERLEY-AMO</td>\n",
       "      <td>40004</td>\n",
       "      <td>-27.63</td>\n",
       "      <td>152.71</td>\n",
       "      <td>32.90</td>\n",
       "      <td>31.87</td>\n",
       "      <td>31.21</td>\n",
       "      <td>29.20</td>\n",
       "      <td>26.06</td>\n",
       "      <td>23.38</td>\n",
       "      <td>22.88</td>\n",
       "      <td>24.12</td>\n",
       "      <td>27.58</td>\n",
       "      <td>29.50</td>\n",
       "      <td>31.04</td>\n",
       "      <td>32.28</td>\n",
       "      <td>3.619068</td>\n",
       "    </tr>\n",
       "    <tr>\n",
       "      <th>4</th>\n",
       "      <td>BARCALDINE-POST-OFFICE</td>\n",
       "      <td>36007</td>\n",
       "      <td>-23.55</td>\n",
       "      <td>145.29</td>\n",
       "      <td>38.03</td>\n",
       "      <td>36.21</td>\n",
       "      <td>35.41</td>\n",
       "      <td>31.73</td>\n",
       "      <td>27.46</td>\n",
       "      <td>25.21</td>\n",
       "      <td>24.64</td>\n",
       "      <td>26.46</td>\n",
       "      <td>30.75</td>\n",
       "      <td>34.13</td>\n",
       "      <td>35.93</td>\n",
       "      <td>37.41</td>\n",
       "      <td>4.937263</td>\n",
       "    </tr>\n",
       "    <tr>\n",
       "      <th>...</th>\n",
       "      <td>...</td>\n",
       "      <td>...</td>\n",
       "      <td>...</td>\n",
       "      <td>...</td>\n",
       "      <td>...</td>\n",
       "      <td>...</td>\n",
       "      <td>...</td>\n",
       "      <td>...</td>\n",
       "      <td>...</td>\n",
       "      <td>...</td>\n",
       "      <td>...</td>\n",
       "      <td>...</td>\n",
       "      <td>...</td>\n",
       "      <td>...</td>\n",
       "      <td>...</td>\n",
       "      <td>...</td>\n",
       "      <td>...</td>\n",
       "    </tr>\n",
       "    <tr>\n",
       "      <th>2235</th>\n",
       "      <td>WILSONS-PROMONTORY-LIGHTHOUSE</td>\n",
       "      <td>85096</td>\n",
       "      <td>-39.13</td>\n",
       "      <td>146.42</td>\n",
       "      <td>21.46</td>\n",
       "      <td>22.04</td>\n",
       "      <td>20.46</td>\n",
       "      <td>18.73</td>\n",
       "      <td>16.59</td>\n",
       "      <td>14.71</td>\n",
       "      <td>14.07</td>\n",
       "      <td>14.09</td>\n",
       "      <td>15.83</td>\n",
       "      <td>17.11</td>\n",
       "      <td>18.47</td>\n",
       "      <td>19.47</td>\n",
       "      <td>2.789112</td>\n",
       "    </tr>\n",
       "    <tr>\n",
       "      <th>2236</th>\n",
       "      <td>WITTENOOM</td>\n",
       "      <td>5026</td>\n",
       "      <td>-22.24</td>\n",
       "      <td>118.34</td>\n",
       "      <td>41.17</td>\n",
       "      <td>40.09</td>\n",
       "      <td>38.65</td>\n",
       "      <td>35.08</td>\n",
       "      <td>29.76</td>\n",
       "      <td>26.29</td>\n",
       "      <td>26.09</td>\n",
       "      <td>28.01</td>\n",
       "      <td>33.16</td>\n",
       "      <td>37.77</td>\n",
       "      <td>40.02</td>\n",
       "      <td>41.35</td>\n",
       "      <td>5.915396</td>\n",
       "    </tr>\n",
       "    <tr>\n",
       "      <th>2237</th>\n",
       "      <td>WOOMERA-AERODROME</td>\n",
       "      <td>16001</td>\n",
       "      <td>-31.16</td>\n",
       "      <td>136.81</td>\n",
       "      <td>36.89</td>\n",
       "      <td>36.37</td>\n",
       "      <td>31.52</td>\n",
       "      <td>26.86</td>\n",
       "      <td>22.28</td>\n",
       "      <td>18.96</td>\n",
       "      <td>18.50</td>\n",
       "      <td>20.22</td>\n",
       "      <td>24.15</td>\n",
       "      <td>27.54</td>\n",
       "      <td>31.84</td>\n",
       "      <td>33.69</td>\n",
       "      <td>6.645964</td>\n",
       "    </tr>\n",
       "    <tr>\n",
       "      <th>2238</th>\n",
       "      <td>WYALONG-POST-OFFICE</td>\n",
       "      <td>73054</td>\n",
       "      <td>-33.93</td>\n",
       "      <td>147.24</td>\n",
       "      <td>36.48</td>\n",
       "      <td>34.21</td>\n",
       "      <td>30.86</td>\n",
       "      <td>26.73</td>\n",
       "      <td>21.29</td>\n",
       "      <td>16.89</td>\n",
       "      <td>15.90</td>\n",
       "      <td>17.60</td>\n",
       "      <td>21.92</td>\n",
       "      <td>26.20</td>\n",
       "      <td>30.91</td>\n",
       "      <td>33.34</td>\n",
       "      <td>7.222403</td>\n",
       "    </tr>\n",
       "    <tr>\n",
       "      <th>2239</th>\n",
       "      <td>YAMBA-PILOT-STATION</td>\n",
       "      <td>58012</td>\n",
       "      <td>-29.43</td>\n",
       "      <td>153.36</td>\n",
       "      <td>28.13</td>\n",
       "      <td>28.67</td>\n",
       "      <td>27.67</td>\n",
       "      <td>25.57</td>\n",
       "      <td>23.46</td>\n",
       "      <td>21.54</td>\n",
       "      <td>21.06</td>\n",
       "      <td>21.95</td>\n",
       "      <td>24.25</td>\n",
       "      <td>25.63</td>\n",
       "      <td>25.88</td>\n",
       "      <td>27.14</td>\n",
       "      <td>2.630712</td>\n",
       "    </tr>\n",
       "  </tbody>\n",
       "</table>\n",
       "<p>2240 rows × 17 columns</p>\n",
       "</div>"
      ],
      "text/plain": [
       "                       STATION_NAME  STN_ID    LAT     LON  January  February  \\\n",
       "0                ADELAIDE-KENT-TOWN   23090 -34.92  138.62    31.48     31.37   \n",
       "1         ALBANY-AIRPORT-COMPARISON    9741 -34.94  117.80    25.24     26.03   \n",
       "2             ALICE-SPRINGS-AIRPORT   15590 -23.80  133.89    38.40     37.32   \n",
       "3                      AMBERLEY-AMO   40004 -27.63  152.71    32.90     31.87   \n",
       "4            BARCALDINE-POST-OFFICE   36007 -23.55  145.29    38.03     36.21   \n",
       "...                             ...     ...    ...     ...      ...       ...   \n",
       "2235  WILSONS-PROMONTORY-LIGHTHOUSE   85096 -39.13  146.42    21.46     22.04   \n",
       "2236                      WITTENOOM    5026 -22.24  118.34    41.17     40.09   \n",
       "2237              WOOMERA-AERODROME   16001 -31.16  136.81    36.89     36.37   \n",
       "2238            WYALONG-POST-OFFICE   73054 -33.93  147.24    36.48     34.21   \n",
       "2239            YAMBA-PILOT-STATION   58012 -29.43  153.36    28.13     28.67   \n",
       "\n",
       "      March  April    May   June   July  August  September  October  November  \\\n",
       "0     28.12  24.81  21.28  17.92  17.20   17.87      20.54    22.98     26.65   \n",
       "1     25.45  23.50  20.55  18.00  16.95   17.02      18.34    19.52     21.85   \n",
       "2     35.35  31.37  25.18  21.06  20.52   23.71      29.07    31.41     34.38   \n",
       "3     31.21  29.20  26.06  23.38  22.88   24.12      27.58    29.50     31.04   \n",
       "4     35.41  31.73  27.46  25.21  24.64   26.46      30.75    34.13     35.93   \n",
       "...     ...    ...    ...    ...    ...     ...        ...      ...       ...   \n",
       "2235  20.46  18.73  16.59  14.71  14.07   14.09      15.83    17.11     18.47   \n",
       "2236  38.65  35.08  29.76  26.29  26.09   28.01      33.16    37.77     40.02   \n",
       "2237  31.52  26.86  22.28  18.96  18.50   20.22      24.15    27.54     31.84   \n",
       "2238  30.86  26.73  21.29  16.89  15.90   17.60      21.92    26.20     30.91   \n",
       "2239  27.67  25.57  23.46  21.54  21.06   21.95      24.25    25.63     25.88   \n",
       "\n",
       "      December  Standard_Deviation  \n",
       "0        28.38            5.180983  \n",
       "1        23.75            3.395952  \n",
       "2        36.06            6.358751  \n",
       "3        32.28            3.619068  \n",
       "4        37.41            4.937263  \n",
       "...        ...                 ...  \n",
       "2235     19.47            2.789112  \n",
       "2236     41.35            5.915396  \n",
       "2237     33.69            6.645964  \n",
       "2238     33.34            7.222403  \n",
       "2239     27.14            2.630712  \n",
       "\n",
       "[2240 rows x 17 columns]"
      ]
     },
     "execution_count": 62,
     "metadata": {},
     "output_type": "execute_result"
    }
   ],
   "source": [
    "std_dataset['Standard_Deviation'] = std_dataset.iloc[:, 4:].std(axis=1) \n",
    "std_dataset"
   ]
  },
  {
   "cell_type": "code",
   "execution_count": 63,
   "id": "bc424e70-652b-418d-94de-102a21878846",
   "metadata": {},
   "outputs": [
    {
     "data": {
      "text/html": [
       "<div>\n",
       "<style scoped>\n",
       "    .dataframe tbody tr th:only-of-type {\n",
       "        vertical-align: middle;\n",
       "    }\n",
       "\n",
       "    .dataframe tbody tr th {\n",
       "        vertical-align: top;\n",
       "    }\n",
       "\n",
       "    .dataframe thead th {\n",
       "        text-align: right;\n",
       "    }\n",
       "</style>\n",
       "<table border=\"1\" class=\"dataframe\">\n",
       "  <thead>\n",
       "    <tr style=\"text-align: right;\">\n",
       "      <th></th>\n",
       "      <th>STATION_NAME</th>\n",
       "      <th>STN_ID</th>\n",
       "      <th>LAT</th>\n",
       "      <th>LON</th>\n",
       "      <th>January</th>\n",
       "      <th>February</th>\n",
       "      <th>March</th>\n",
       "      <th>April</th>\n",
       "      <th>May</th>\n",
       "      <th>June</th>\n",
       "      <th>July</th>\n",
       "      <th>August</th>\n",
       "      <th>September</th>\n",
       "      <th>October</th>\n",
       "      <th>November</th>\n",
       "      <th>December</th>\n",
       "      <th>Standard_Deviation</th>\n",
       "    </tr>\n",
       "  </thead>\n",
       "  <tbody>\n",
       "    <tr>\n",
       "      <th>1669</th>\n",
       "      <td>WAGGA-WAGGA-AMO</td>\n",
       "      <td>72150</td>\n",
       "      <td>-35.16</td>\n",
       "      <td>147.46</td>\n",
       "      <td>36.55</td>\n",
       "      <td>35.31</td>\n",
       "      <td>32.61</td>\n",
       "      <td>27.15</td>\n",
       "      <td>21.43</td>\n",
       "      <td>16.45</td>\n",
       "      <td>15.48</td>\n",
       "      <td>17.61</td>\n",
       "      <td>21.66</td>\n",
       "      <td>26.02</td>\n",
       "      <td>30.36</td>\n",
       "      <td>34.66</td>\n",
       "      <td>7.675713</td>\n",
       "    </tr>\n",
       "  </tbody>\n",
       "</table>\n",
       "</div>"
      ],
      "text/plain": [
       "         STATION_NAME  STN_ID    LAT     LON  January  February  March  April  \\\n",
       "1669  WAGGA-WAGGA-AMO   72150 -35.16  147.46    36.55     35.31  32.61  27.15   \n",
       "\n",
       "        May   June   July  August  September  October  November  December  \\\n",
       "1669  21.43  16.45  15.48   17.61      21.66    26.02     30.36     34.66   \n",
       "\n",
       "      Standard_Deviation  \n",
       "1669            7.675713  "
      ]
     },
     "execution_count": 63,
     "metadata": {},
     "output_type": "execute_result"
    }
   ],
   "source": [
    "std_dataset[std_dataset['Standard_Deviation'] == std_dataset['Standard_Deviation'].max()]"
   ]
  },
  {
   "cell_type": "code",
   "execution_count": 64,
   "id": "f54a3b8e-af50-4c46-8c0f-9a6a36604849",
   "metadata": {},
   "outputs": [
    {
     "name": "stdout",
     "output_type": "stream",
     "text": [
      "Most Variable: WAGGA-WAGGA-AMO: StdDev 7.3°C\n"
     ]
    }
   ],
   "source": [
    "vstation_name = std_dataset.iloc[661]['STATION_NAME']\n",
    "vstd = std_dataset.iloc[661]['Standard_Deviation']\n",
    "most_variable = f\"Most Variable: {vstation_name}: StdDev {round(vstd,1)}°C\"\n",
    "print(most_variable)"
   ]
  },
  {
   "cell_type": "code",
   "execution_count": 65,
   "id": "a38bf553-5af0-4bbd-895f-1bb24bdd1984",
   "metadata": {},
   "outputs": [
    {
     "data": {
      "text/html": [
       "<div>\n",
       "<style scoped>\n",
       "    .dataframe tbody tr th:only-of-type {\n",
       "        vertical-align: middle;\n",
       "    }\n",
       "\n",
       "    .dataframe tbody tr th {\n",
       "        vertical-align: top;\n",
       "    }\n",
       "\n",
       "    .dataframe thead th {\n",
       "        text-align: right;\n",
       "    }\n",
       "</style>\n",
       "<table border=\"1\" class=\"dataframe\">\n",
       "  <thead>\n",
       "    <tr style=\"text-align: right;\">\n",
       "      <th></th>\n",
       "      <th>STATION_NAME</th>\n",
       "      <th>STN_ID</th>\n",
       "      <th>LAT</th>\n",
       "      <th>LON</th>\n",
       "      <th>January</th>\n",
       "      <th>February</th>\n",
       "      <th>March</th>\n",
       "      <th>April</th>\n",
       "      <th>May</th>\n",
       "      <th>June</th>\n",
       "      <th>July</th>\n",
       "      <th>August</th>\n",
       "      <th>September</th>\n",
       "      <th>October</th>\n",
       "      <th>November</th>\n",
       "      <th>December</th>\n",
       "      <th>Standard_Deviation</th>\n",
       "    </tr>\n",
       "  </thead>\n",
       "  <tbody>\n",
       "    <tr>\n",
       "      <th>592</th>\n",
       "      <td>DARWIN-AIRPORT</td>\n",
       "      <td>14015</td>\n",
       "      <td>-12.42</td>\n",
       "      <td>130.89</td>\n",
       "      <td>34.33</td>\n",
       "      <td>34.09</td>\n",
       "      <td>34.42</td>\n",
       "      <td>35.67</td>\n",
       "      <td>35.46</td>\n",
       "      <td>34.27</td>\n",
       "      <td>34.33</td>\n",
       "      <td>34.79</td>\n",
       "      <td>35.57</td>\n",
       "      <td>36.03</td>\n",
       "      <td>35.91</td>\n",
       "      <td>35.19</td>\n",
       "      <td>0.710282</td>\n",
       "    </tr>\n",
       "  </tbody>\n",
       "</table>\n",
       "</div>"
      ],
      "text/plain": [
       "       STATION_NAME  STN_ID    LAT     LON  January  February  March  April  \\\n",
       "592  DARWIN-AIRPORT   14015 -12.42  130.89    34.33     34.09  34.42  35.67   \n",
       "\n",
       "       May   June   July  August  September  October  November  December  \\\n",
       "592  35.46  34.27  34.33   34.79      35.57    36.03     35.91     35.19   \n",
       "\n",
       "     Standard_Deviation  \n",
       "592            0.710282  "
      ]
     },
     "execution_count": 65,
     "metadata": {},
     "output_type": "execute_result"
    }
   ],
   "source": [
    "std_dataset[std_dataset['Standard_Deviation'] == std_dataset['Standard_Deviation'].min()]"
   ]
  },
  {
   "cell_type": "code",
   "execution_count": 66,
   "id": "4386d49d-902b-4ad3-b0d1-8f0664c1f0c6",
   "metadata": {},
   "outputs": [
    {
     "name": "stdout",
     "output_type": "stream",
     "text": [
      "Most Stable: DARWIN-AIRPORT: StdDev 1.0°C\n"
     ]
    }
   ],
   "source": [
    "sstation_name = std_dataset.iloc[2160]['STATION_NAME']\n",
    "sstd = std_dataset.iloc[2160]['Standard_Deviation']\n",
    "most_stable = f\"Most Stable: {sstation_name}: StdDev {round(sstd,1)}°C\"\n",
    "print(most_stable)"
   ]
  },
  {
   "cell_type": "code",
   "execution_count": 67,
   "id": "ed350733-8fc5-4bad-8b5a-dbe3b73df80e",
   "metadata": {},
   "outputs": [],
   "source": [
    "with open('temperature_stability_stations.txt', 'w') as f:     \n",
    "    f.write(f\"{most_stable}\\n{most_variable}\")"
   ]
  }
 ],
 "metadata": {
  "kernelspec": {
   "display_name": ".venv",
   "language": "python",
   "name": "python3"
  },
  "language_info": {
   "codemirror_mode": {
    "name": "ipython",
    "version": 3
   },
   "file_extension": ".py",
   "mimetype": "text/x-python",
   "name": "python",
   "nbconvert_exporter": "python",
   "pygments_lexer": "ipython3",
   "version": "3.8.10"
  }
 },
 "nbformat": 4,
 "nbformat_minor": 5
}
